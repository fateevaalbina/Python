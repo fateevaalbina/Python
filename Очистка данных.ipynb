{
 "cells": [
  {
   "cell_type": "code",
   "execution_count": 19,
   "metadata": {},
   "outputs": [
    {
     "name": "stdout",
     "output_type": "stream",
     "text": [
      "        one       two     three\n",
      "a  1.955007 -0.026824  0.261554\n",
      "b       NaN       NaN       NaN\n",
      "c -0.032066  0.357273  0.989584\n",
      "d       NaN       NaN       NaN\n",
      "e -0.880696  1.044505 -0.612229\n",
      "f  1.796906  0.764511 -0.083907\n",
      "g       NaN       NaN       NaN\n",
      "h -0.860797 -0.208714  1.610064\n"
     ]
    }
   ],
   "source": [
    "import pandas as pd\n",
    "import numpy as np\n",
    "\n",
    "df = pd.DataFrame(np.random.randn(5, 3), index=['a', 'c', 'e', 'f',\n",
    "'h'],columns=['one', 'two', 'three'])\n",
    "\n",
    "df = df.reindex(['a', 'b', 'c', 'd', 'e', 'f', 'g', 'h'])\n",
    "\n",
    "print (df)"
   ]
  },
  {
   "cell_type": "code",
   "execution_count": 10,
   "metadata": {},
   "outputs": [
    {
     "name": "stdout",
     "output_type": "stream",
     "text": [
      "     one    two  three\n",
      "a   True   True   True\n",
      "b  False  False  False\n",
      "c   True   True   True\n",
      "d  False  False  False\n",
      "e   True   True   True\n",
      "f   True   True   True\n",
      "g  False  False  False\n",
      "h   True   True   True\n"
     ]
    }
   ],
   "source": [
    "#print df['one'].isnull() Просмотр определенного столбца на \n",
    "#наличие пустых значений\n",
    "#Просмотр даты фрейма на наличие пыстых значений. \n",
    "# Функция isnull(), notnull() используется для типов данных series, dataframe\n",
    "print (df.notnull())"
   ]
  },
  {
   "cell_type": "code",
   "execution_count": 8,
   "metadata": {},
   "outputs": [
    {
     "name": "stdout",
     "output_type": "stream",
     "text": [
      "NaN replaced with '0':\n",
      "        one       two     three\n",
      "a  0.317808  1.941711  0.335873\n",
      "b  0.000000  0.000000  0.000000\n",
      "c -0.439296 -1.235066  1.416863\n",
      "d  0.000000  0.000000  0.000000\n",
      "e  1.349221 -1.004065  0.869022\n",
      "f -0.286729 -1.401631  0.164504\n",
      "g  0.000000  0.000000  0.000000\n",
      "h  0.217265 -0.830418 -1.603760\n"
     ]
    }
   ],
   "source": [
    "#Замена значений типа NaN на 0 с помощью функции fillna\n",
    "print (\"NaN replaced with '0':\")\n",
    "print (df.fillna(0))"
   ]
  },
  {
   "cell_type": "code",
   "execution_count": 13,
   "metadata": {},
   "outputs": [
    {
     "name": "stdout",
     "output_type": "stream",
     "text": [
      "        one       two     three\n",
      "a  0.739038 -1.167652 -0.224827\n",
      "b -1.331403  0.400616  0.753719\n",
      "c -1.331403  0.400616  0.753719\n",
      "d  0.891557 -1.036377  1.919187\n",
      "e  0.891557 -1.036377  1.919187\n",
      "f -1.872701 -0.427934  1.095821\n",
      "g -1.455638 -0.064246 -0.421987\n",
      "h -1.455638 -0.064246 -0.421987\n"
     ]
    }
   ],
   "source": [
    "#Метод заполнения вперед pad, \n",
    "# меод заполнения назад bfill\n",
    "print (df.fillna(method='bfill'))"
   ]
  },
  {
   "cell_type": "code",
   "execution_count": 16,
   "metadata": {},
   "outputs": [
    {
     "name": "stdout",
     "output_type": "stream",
     "text": [
      "        one       two     three\n",
      "a  3.195328  1.325462 -0.434589\n",
      "c  0.102191 -2.125102 -0.867008\n",
      "e -2.023110  0.265266 -0.031647\n",
      "f -0.600134 -2.387833  0.152504\n",
      "h  0.744413 -0.495740  0.915330\n"
     ]
    }
   ],
   "source": [
    "#Исключение недостающих значений используя метод dropna вместе\n",
    "#с аргументом значения оси (по умолчанию 0)\n",
    "print (df.dropna())"
   ]
  },
  {
   "cell_type": "code",
   "execution_count": 17,
   "metadata": {},
   "outputs": [
    {
     "name": "stdout",
     "output_type": "stream",
     "text": [
      "    one   two\n",
      "0    10  1000\n",
      "1    20     0\n",
      "2    30    30\n",
      "3    40    40\n",
      "4    50    50\n",
      "5  2000    60\n"
     ]
    }
   ],
   "source": [
    "df1 = pd.DataFrame({'one':[10,20,30,40,50,2000],\n",
    "'two':[1000,0,30,40,50,60]})\n",
    "#print df1.replace({1000:10,2000:60})\n",
    "print (df1)"
   ]
  },
  {
   "cell_type": "code",
   "execution_count": 18,
   "metadata": {},
   "outputs": [
    {
     "name": "stdout",
     "output_type": "stream",
     "text": [
      "   one  two\n",
      "0   10   10\n",
      "1   20    0\n",
      "2   30   30\n",
      "3   40   40\n",
      "4   50   50\n",
      "5   60   60\n"
     ]
    }
   ],
   "source": [
    "print (df1.replace({1000:10,2000:60}))"
   ]
  },
  {
   "cell_type": "code",
   "execution_count": 20,
   "metadata": {},
   "outputs": [
    {
     "name": "stdout",
     "output_type": "stream",
     "text": [
      "            one       two     three\n",
      "count  5.000000  5.000000  5.000000\n",
      "mean   0.395671  0.386150  0.433013\n",
      "std    1.395150  0.524841  0.878117\n",
      "min   -0.880696 -0.208714 -0.612229\n",
      "25%   -0.860797 -0.026824 -0.083907\n",
      "50%   -0.032066  0.357273  0.261554\n",
      "75%    1.796906  0.764511  0.989584\n",
      "max    1.955007  1.044505  1.610064\n"
     ]
    }
   ],
   "source": [
    "print (df.describe ())"
   ]
  },
  {
   "cell_type": "code",
   "execution_count": null,
   "metadata": {},
   "outputs": [],
   "source": []
  }
 ],
 "metadata": {
  "kernelspec": {
   "display_name": "Python 3",
   "language": "python",
   "name": "python3"
  },
  "language_info": {
   "codemirror_mode": {
    "name": "ipython",
    "version": 3
   },
   "file_extension": ".py",
   "mimetype": "text/x-python",
   "name": "python",
   "nbconvert_exporter": "python",
   "pygments_lexer": "ipython3",
   "version": "3.7.7"
  }
 },
 "nbformat": 4,
 "nbformat_minor": 4
}
